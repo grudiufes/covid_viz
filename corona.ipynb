{
 "cells": [
  {
   "cell_type": "code",
   "execution_count": 1,
   "metadata": {
    "collapsed": true
   },
   "outputs": [
    {
     "name": "stdout",
     "output_type": "stream",
     "text": [
      "Defaulting to user installation because normal site-packages is not writeable\n",
      "Requirement already up-to-date: networkx in /home/grudi2/.local/lib/python3.6/site-packages (2.5)\n",
      "Requirement already up-to-date: pandas in /home/grudi2/.local/lib/python3.6/site-packages (1.1.1)\n",
      "Requirement already up-to-date: numpy in /home/grudi2/.local/lib/python3.6/site-packages (1.19.1)\n",
      "Requirement already up-to-date: matplotlib in /home/grudi2/.local/lib/python3.6/site-packages (3.3.1)\n",
      "Requirement already up-to-date: plotly in /home/grudi2/.local/lib/python3.6/site-packages (4.9.0)\n",
      "Requirement already up-to-date: scikit-learn in /home/grudi2/.local/lib/python3.6/site-packages (0.23.2)\n",
      "Requirement already satisfied, skipping upgrade: decorator>=4.3.0 in /home/grudi2/.local/lib/python3.6/site-packages (from networkx) (4.4.2)\n",
      "Requirement already satisfied, skipping upgrade: pytz>=2017.2 in /usr/local/lib/python3.6/dist-packages (from pandas) (2019.1)\n",
      "Requirement already satisfied, skipping upgrade: python-dateutil>=2.7.3 in /home/grudi2/.local/lib/python3.6/site-packages (from pandas) (2.8.1)\n",
      "Requirement already satisfied, skipping upgrade: cycler>=0.10 in /usr/local/lib/python3.6/dist-packages (from matplotlib) (0.10.0)\n",
      "Requirement already satisfied, skipping upgrade: kiwisolver>=1.0.1 in /usr/local/lib/python3.6/dist-packages (from matplotlib) (1.1.0)\n",
      "Requirement already satisfied, skipping upgrade: certifi>=2020.06.20 in /home/grudi2/.local/lib/python3.6/site-packages (from matplotlib) (2020.6.20)\n",
      "Requirement already satisfied, skipping upgrade: pillow>=6.2.0 in /home/grudi2/.local/lib/python3.6/site-packages (from matplotlib) (7.2.0)\n",
      "Requirement already satisfied, skipping upgrade: pyparsing!=2.0.4,!=2.1.2,!=2.1.6,>=2.0.3 in /usr/local/lib/python3.6/dist-packages (from matplotlib) (2.4.5)\n",
      "Requirement already satisfied, skipping upgrade: six in /home/grudi2/.local/lib/python3.6/site-packages (from plotly) (1.12.0)\n",
      "Requirement already satisfied, skipping upgrade: retrying>=1.3.3 in /usr/local/lib/python3.6/dist-packages (from plotly) (1.3.3)\n",
      "Requirement already satisfied, skipping upgrade: joblib>=0.11 in /home/grudi2/.local/lib/python3.6/site-packages (from scikit-learn) (0.16.0)\n",
      "Requirement already satisfied, skipping upgrade: threadpoolctl>=2.0.0 in /home/grudi2/.local/lib/python3.6/site-packages (from scikit-learn) (2.1.0)\n",
      "Requirement already satisfied, skipping upgrade: scipy>=0.19.1 in /home/grudi2/.local/lib/python3.6/site-packages (from scikit-learn) (1.5.2)\n",
      "Requirement already satisfied, skipping upgrade: setuptools in /usr/local/lib/python3.6/dist-packages (from kiwisolver>=1.0.1->matplotlib) (45.1.0)\n",
      "\u001b[33mWARNING: You are using pip version 20.0.2; however, version 20.2.2 is available.\n",
      "You should consider upgrading via the '/usr/bin/python3 -m pip install --upgrade pip' command.\u001b[0m\n"
     ]
    }
   ],
   "source": [
    "!python3 -m pip install -U networkx pandas numpy matplotlib plotly scikit-learn"
   ]
  },
  {
   "cell_type": "code",
   "execution_count": 2,
   "metadata": {},
   "outputs": [],
   "source": [
    "import datetime\n",
    "import nltk\n",
    "import numpy as np\n",
    "import os\n",
    "import pandas as pd\n",
    "import plotly.graph_objects as go\n",
    "import plotly.io as pio\n",
    "import pytz\n",
    "import re\n",
    "\n",
    "from PIL import Image\n",
    "from string import punctuation\n",
    "from textwrap import fill, wrap"
   ]
  },
  {
   "cell_type": "code",
   "execution_count": 79,
   "metadata": {},
   "outputs": [],
   "source": [
    "STOP_WORDS = set(nltk.corpus.stopwords.words('portuguese') + list(punctuation))\n",
    "STOP_WORDS.update(['corona', 'covid', '19']) # search terms\n",
    "STOP_WORDS.update(['tá', 'pra', 'pq', ]) # words that shoudn't be here\n",
    "\n",
    "DATA_DIR = os.path.expanduser('~/Dados/corona')\n",
    "SITE_DIR = os.path.expanduser('~/Dados/covid_viz')\n",
    "BULLETIN_DIR = os.path.join(SITE_DIR, 'boletins')\n",
    "\n",
    "TIMEZONE = 'America/Sao_Paulo'"
   ]
  },
  {
   "cell_type": "markdown",
   "metadata": {},
   "source": [
    "# Load dataset"
   ]
  },
  {
   "cell_type": "code",
   "execution_count": 4,
   "metadata": {},
   "outputs": [],
   "source": [
    "def get_files_from_date(dir_, term, date, ext='csv'):\n",
    "    if date.weekday() != 6:\n",
    "        date -= datetime.timedelta(days=(date.weekday() + 1)) # a sunday\n",
    "\n",
    "    ls = os.listdir(DATA_DIR)\n",
    "\n",
    "    files = []\n",
    "    for i in range(7):\n",
    "        file_name = '{}_{}.{}'.format(term, date.strftime('%y%m%d'), ext)\n",
    "        if os.path.exists(os.path.join(dir_, file_name)):\n",
    "            files.append(file_name)\n",
    "        date += datetime.timedelta(days=1)\n",
    "    \n",
    "    return files\n",
    "\n",
    "def load_week_data(week_date):\n",
    "    date = datetime.datetime.strptime(week_date, '%d/%m/%Y')\n",
    "    date = date.replace(tzinfo=pytz.timezone(TIMEZONE))\n",
    "\n",
    "    files = get_files_from_date(DATA_DIR, 'corona', date)\n",
    "    files = [os.path.join(DATA_DIR, f) for f in files]\n",
    "    if not len(files):\n",
    "        return\n",
    "\n",
    "    df = pd.concat([pd.read_csv(f, sep=';') for f in files], ignore_index=True)\n",
    "    df.rename(\n",
    "        columns={\n",
    "            'user.screen_name': 'user',\n",
    "            'retweeted_status.user.screen_name': 'retweeted_user',\n",
    "            'complete_text': 'text'\n",
    "        },\n",
    "        inplace=True\n",
    "    )\n",
    "\n",
    "    df = df[df['lang'] == 'pt']\n",
    "    df['date'] = pd.to_datetime(df['created_at'], format='%a %b %d %H:%M:%S %z %Y')\n",
    "    df['date'] = df['date'].dt.tz_convert(TIMEZONE)\n",
    "    df = df[df['date'] >= date].reset_index(drop=True)\n",
    "\n",
    "    return df"
   ]
  },
  {
   "cell_type": "code",
   "execution_count": 5,
   "metadata": {},
   "outputs": [
    {
     "name": "stdout",
     "output_type": "stream",
     "text": [
      "(691397, 6)\n",
      "                       created_at       user   retweeted_user  \\\n",
      "0  Sun Aug 16 03:06:01 +0000 2020  caiocozta              NaN   \n",
      "1  Sun Aug 16 03:06:02 +0000 2020     _gabge              NaN   \n",
      "2  Sun Aug 16 03:06:02 +0000 2020  coronna__      lemes_kaiky   \n",
      "3  Sun Aug 16 03:06:03 +0000 2020  sabrrinny  carol_bpinheiro   \n",
      "4  Sun Aug 16 03:06:03 +0000 2020  _licemelo  carol_bpinheiro   \n",
      "\n",
      "                                                text lang  \\\n",
      "0              @euotrouxa nem o corona        triste   pt   \n",
      "1  Soros produzidos por cavalos têm anticorpos po...   pt   \n",
      "2  Ultimamente eu só quero a vacina do corona é v...   pt   \n",
      "3  eu🤡achando🤡que🤡o🤡corona🤡ia🤡 acabar🤡antes🤡do🤡 m...   pt   \n",
      "4  eu🤡achando🤡que🤡o🤡corona🤡ia🤡 acabar🤡antes🤡do🤡 m...   pt   \n",
      "\n",
      "                       date  \n",
      "0 2020-08-16 00:06:01-03:00  \n",
      "1 2020-08-16 00:06:02-03:00  \n",
      "2 2020-08-16 00:06:02-03:00  \n",
      "3 2020-08-16 00:06:03-03:00  \n",
      "4 2020-08-16 00:06:03-03:00  \n"
     ]
    }
   ],
   "source": [
    "df = load_week_data('16/08/2020')\n",
    "\n",
    "print(df.shape)\n",
    "print(df.head())"
   ]
  },
  {
   "cell_type": "markdown",
   "metadata": {},
   "source": [
    "# Text functions"
   ]
  },
  {
   "cell_type": "code",
   "execution_count": 26,
   "metadata": {},
   "outputs": [],
   "source": [
    "def remove_url(string):\n",
    "    url_pattern = re.compile(r'https?://\\S+|www\\.\\S+')\n",
    "    return url_pattern.sub(r'', string)\n",
    "\n",
    "def remove_puctuation(string):\n",
    "    for p in punctuation:\n",
    "        string = string.replace(p, '')\n",
    "        \n",
    "def remove_stop_words(words):\n",
    "    return [word for word in words if not word in STOP_WORDS]\n",
    "\n",
    "def wrap_text(text, wrap_width=100, sep='\\n'):\n",
    "    return sep.join(wrap(text, wrap_width))"
   ]
  },
  {
   "cell_type": "markdown",
   "metadata": {},
   "source": [
    "# Interactive plots"
   ]
  },
  {
   "cell_type": "code",
   "execution_count": 7,
   "metadata": {},
   "outputs": [],
   "source": [
    "def plot_line(x, y, **kwargs):\n",
    "    fig = go.Figure(go.Scatter(x=x, y=y))\n",
    "\n",
    "    fig.update_layout(\n",
    "        xaxis_tickformat='%d/%m/%y',\n",
    "        yaxis_rangemode='tozero',\n",
    "        yaxis_ticksuffix=' mil',\n",
    "        hovermode='x',\n",
    "        **kwargs\n",
    "    )\n",
    "\n",
    "    return fig\n",
    "\n",
    "def plot_bar(x, y, **kwargs):\n",
    "    fig = go.Figure(go.Bar(x=x, y=y))\n",
    "\n",
    "    fig.update_layout(\n",
    "        hovermode='x',\n",
    "        **kwargs\n",
    "    )\n",
    "\n",
    "    return fig\n",
    "\n",
    "def export_html(df, figures):\n",
    "    dates = df['date'].sort_values().iloc[[0, -1]].to_numpy()\n",
    "    file_name = '{}.html'.format(dates[0].strftime('%y%m%d'))\n",
    "\n",
    "    if dates[0].day != dates[1].day:\n",
    "        periodo = '{} a {}'.format(dates[0].strftime('%d/%m/%Y'), dates[1].strftime('%d/%m/%Y'))\n",
    "    else:\n",
    "        periodo = '{}'.format(dates[0].strftime('%d/%m/%Y'))\n",
    "\n",
    "    with open(os.path.join(BULLETIN_DIR, file_name), 'w') as f:\n",
    "        f.write('<h1>Covid-19 Twitter {}</h1>'.format(periodo))\n",
    "        f.write('<h2>Total de tweets coletados: {}</h2>'.format(df.shape[0]))\n",
    "        for fig in figures:\n",
    "            f.write(fig.to_html(full_html=False, include_plotlyjs='cdn'))\n",
    "\n",
    "    with open(os.path.join(SITE_DIR, 'index.html'), 'w') as f:\n",
    "        f.write('<h1>Lista de boletins da Covid-19 no Twitter</h1>')\n",
    "\n",
    "        for file_ in np.sort(os.listdir(BULLETIN_DIR)):\n",
    "            with open(os.path.join(BULLETIN_DIR, file_)) as b:\n",
    "                period = b.read().split('<h1>Covid-19 Twitter ')[1].split('</h1>')[0]\n",
    "                f.write('<a href=\"boletins/{}\">{}</a><br>'.format(file_, period))"
   ]
  },
  {
   "cell_type": "code",
   "execution_count": 8,
   "metadata": {},
   "outputs": [],
   "source": [
    "def load_data_generate_html(week_dates):\n",
    "    for week_date in week_dates:\n",
    "        date = datetime.datetime.strptime(week_date, '%d/%m/%Y')\n",
    "        date = date.replace(tzinfo=pytz.timezone(TIMEZONE))\n",
    "\n",
    "        files = get_files_from_date(DATA_DIR, 'corona', date)\n",
    "        files = [os.path.join(DATA_DIR, f) for f in files]\n",
    "        if not len(files):\n",
    "            continue\n",
    "\n",
    "        df = pd.concat([pd.read_csv(f, sep=';') for f in files], ignore_index=True)\n",
    "        df.rename(\n",
    "            columns={\n",
    "                'user.screen_name': 'user',\n",
    "                'retweeted_status.user.screen_name': 'retweeted_user',\n",
    "                'complete_text': 'text'\n",
    "            },\n",
    "            inplace=True\n",
    "        )\n",
    "\n",
    "        df = df[df['lang'] == 'pt']\n",
    "        df['date'] = pd.to_datetime(df['created_at'], format='%a %b %d %H:%M:%S %z %Y')\n",
    "        df['date'] = df['date'].dt.tz_convert(TIMEZONE)\n",
    "        df = df[df['date'] >= date].reset_index(drop=True)\n",
    "\n",
    "        date_series = df.groupby(df['date'].dt.date)['text'].count()\n",
    "        tweet_dia = plot_line(\n",
    "            date_series.index,\n",
    "            date_series.values / 1000,\n",
    "            title='Tweets por dia',\n",
    "            xaxis_title='Dia',\n",
    "            yaxis_title='Quantidade de Tweets',\n",
    "        )\n",
    "\n",
    "        top_tweet = df['text'].value_counts(ascending=False).index[0]\n",
    "        top_tweet_series = df[df['text'] == top_tweet].groupby(df['date'].dt.date)['lang'].count()[:10]\n",
    "        percurso = plot_line(\n",
    "            top_tweet_series.index,\n",
    "            top_tweet_series.values / 1000,\n",
    "            title='Percurso top tweet',\n",
    "            xaxis_title='Dia<br>Tweet: \"{}\"'.format(wrap_text(top_tweet, 100, '<br>')),\n",
    "            yaxis_title='Quantidade de Retweets',\n",
    "        )\n",
    "\n",
    "        text_series = df['text'].value_counts(ascending=False)[:10]\n",
    "        tweets_populares = plot_bar(\n",
    "            [wrap_text(text, 50, '<br>') for text in text_series.index],\n",
    "            text_series.values / 1000,\n",
    "            title='Tweets mais populares',\n",
    "            xaxis_title='Tweet',\n",
    "            xaxis_showticklabels=False,\n",
    "            yaxis_title='Quantidade de registros',\n",
    "            yaxis_ticksuffix=' mil',\n",
    "        )\n",
    "\n",
    "        rt_user_series = df['retweeted_user'].dropna().value_counts(ascending=False)[:10]\n",
    "        perfis_retweetados = plot_bar(\n",
    "            rt_user_series.index,\n",
    "            rt_user_series.values / 1000,\n",
    "            title='Perfis mais retweetados',\n",
    "            xaxis_title='Perfis',\n",
    "            yaxis_title='Quantidade de Retweets',\n",
    "            yaxis_ticksuffix=' mil',\n",
    "        )\n",
    "\n",
    "        user_series = df['user'].dropna().value_counts(ascending=False)[:10]\n",
    "        perfis_ativos = plot_bar(\n",
    "            user_series.index,\n",
    "            user_series.values,\n",
    "            title='Perfis mais ativos',\n",
    "            xaxis_title='Perfis',\n",
    "            yaxis_title='Quantidade de registros',\n",
    "        )\n",
    "\n",
    "        export_html(df, [\n",
    "            tweet_dia, tweets_populares, percurso, perfis_retweetados,\n",
    "            perfis_ativos\n",
    "        ])"
   ]
  },
  {
   "cell_type": "markdown",
   "metadata": {},
   "source": [
    "# Graph plot"
   ]
  },
  {
   "cell_type": "code",
   "execution_count": 84,
   "metadata": {},
   "outputs": [],
   "source": [
    "import networkx as nx\n",
    "from sklearn.feature_extraction.text import CountVectorizer\n",
    "\n",
    "def bag_of_words(series, max_features=10):\n",
    "    series = series.apply(remove_url)\n",
    "    vet = CountVectorizer(\n",
    "        max_features=max_features,\n",
    "        stop_words=STOP_WORDS\n",
    "    )\n",
    "    bow = vet.fit_transform(series)\n",
    "    \n",
    "    return bow, vet.get_feature_names()\n",
    "\n",
    "def spmatrix_to_df(matrix, columns, index):\n",
    "    return pd.DataFrame.sparse.from_spmatrix(matrix, columns=columns, index=index)\n",
    "    \n",
    "def bigrams(series):\n",
    "    return series.apply(tokenize).apply(nltk.bigrams).apply(list).explode()\n",
    "\n",
    "def tokenize(string):\n",
    "    string = remove_url(string)\n",
    "    return remove_stop_words(nltk.word_tokenize(string))\n",
    "\n",
    "def text_to_graph(text_series, max_features=10):\n",
    "    X, features = bag_of_words(text_series, max_features=max_features)\n",
    "    adj_matrix = X.T * X\n",
    "    graph_df = spmatrix_to_df(adj_matrix, features, features)\n",
    "    \n",
    "    return nx.draw_networkx(nx.convert_matrix.from_pandas_adjacency(graph_df))\n",
    "\n",
    "def plot_graph(corpus, node_size_factor=30, n_nodes=15, **kwargs):\n",
    "    X, features = bag_of_words(corpus, max_features=n_nodes)\n",
    "    adj_matrix = X.T * X\n",
    "    adj_matrix.setdiag(0)\n",
    "    adj_matrix = adj_matrix / adj_matrix.max()\n",
    "    graph_df = spmatrix_to_df(adj_matrix, features, features)\n",
    "    g = nx.convert_matrix.from_pandas_adjacency(graph_df)\n",
    "\n",
    "    pos = nx.spring_layout(g)\n",
    "    xn, yn = np.array(list(pos.values())).T\n",
    "    xe = []\n",
    "    ye = []\n",
    "    for e in g.edges:\n",
    "        xe += [pos[e[0]][0], pos[e[1]][0], None]\n",
    "        ye += [pos[e[0]][1], pos[e[1]][1], None]\n",
    "\n",
    "    node_size = adj_matrix.sum(axis=1) * node_size_factor\n",
    "    axis = {'showline': True, 'zeroline': False, 'showgrid': False, 'showticklabels': False, 'title': ''}\n",
    "\n",
    "    fig = go.Figure(\n",
    "        data=[\n",
    "            go.Scatter(\n",
    "                x=xn, y=yn,\n",
    "                mode='markers+text', marker_size=node_size,\n",
    "                text=list(g.nodes), textposition=\"middle center\",\n",
    "                hoverinfo='none', #TODO: number of records\n",
    "            ),\n",
    "            go.Scatter(x=xe, y=ye, mode='lines', line_color='rgba(151, 151, 151, 0.2)', hoverinfo='none')\n",
    "        ],\n",
    "        layout=go.Layout(xaxis=axis, yaxis=axis, showlegend=False, **kwargs)\n",
    "    )\n",
    "    \n",
    "    return fig"
   ]
  },
  {
   "cell_type": "code",
   "execution_count": 10,
   "metadata": {},
   "outputs": [],
   "source": [
    "text = df['text'].dropna().str.lower()\n",
    "word_list = text.str.split().apply(remove_stop_words)\n",
    "single_word_list = text.drop_duplicates().str.split().apply(remove_stop_words)"
   ]
  },
  {
   "cell_type": "markdown",
   "metadata": {},
   "source": [
    "## Feature extraction"
   ]
  },
  {
   "cell_type": "code",
   "execution_count": 85,
   "metadata": {},
   "outputs": [
    {
     "data": {
      "application/vnd.plotly.v1+json": {
       "config": {
        "plotlyServerURL": "https://plot.ly"
       },
       "data": [
        {
         "hoverinfo": "none",
         "marker": {
          "size": [
           [
            84.95820976004313
           ],
           [
            46.384470207603144
           ],
           [
            100.93421407387436
           ],
           [
            93.1059584793745
           ],
           [
            122.44135885683474
           ],
           [
            101.28201671609598
           ],
           [
            132.31464006470745
           ],
           [
            91.15529792396873
           ],
           [
            93.56295497438663
           ],
           [
            66.99245079536264
           ],
           [
            63.213804259908336
           ],
           [
            30.647074683203016
           ],
           [
            82.55864114316527
           ],
           [
            40.28713939067134
           ],
           [
            41.24561876516581
           ]
          ]
         },
         "mode": "markers+text",
         "text": [
          "agora",
          "anos",
          "bolsonaro",
          "brasil",
          "china",
          "cloroquina",
          "contra",
          "mil",
          "mortes",
          "pandemia",
          "pessoas",
          "pode",
          "vacina",
          "vai",
          "vida"
         ],
         "textposition": "middle center",
         "type": "scatter",
         "x": [
          -0.6237276155106625,
          -0.849137076473074,
          0.39531175427636944,
          0.6315910355439683,
          -0.37945183115579234,
          -0.4516585788902151,
          0.01809076140613107,
          0.47168234382439145,
          0.7824799278889628,
          -0.3177884986717905,
          0.15376431515078323,
          0.44190225844689146,
          -0.10912083166792515,
          0.024938465747495808,
          -0.18887642991553194
         ],
         "y": [
          -0.4148128919428564,
          -0.0037484380715549982,
          0.0223215386744876,
          -0.27090915643803104,
          -0.00559935468012924,
          0.3541208046837327,
          -0.043703532769257356,
          0.41142022321846805,
          0.09802793771692109,
          -0.5418637961853753,
          0.6619190945405565,
          -0.8591725370226376,
          0.2911390319127484,
          -0.6991389236370722,
          1
         ]
        },
        {
         "hoverinfo": "none",
         "line": {
          "color": "rgba(151, 151, 151, 0.2)"
         },
         "mode": "lines",
         "type": "scatter",
         "x": [
          -0.6237276155106625,
          -0.849137076473074,
          null,
          -0.6237276155106625,
          0.39531175427636944,
          null,
          -0.6237276155106625,
          0.6315910355439683,
          null,
          -0.6237276155106625,
          -0.37945183115579234,
          null,
          -0.6237276155106625,
          -0.4516585788902151,
          null,
          -0.6237276155106625,
          0.01809076140613107,
          null,
          -0.6237276155106625,
          0.47168234382439145,
          null,
          -0.6237276155106625,
          0.7824799278889628,
          null,
          -0.6237276155106625,
          -0.3177884986717905,
          null,
          -0.6237276155106625,
          0.15376431515078323,
          null,
          -0.6237276155106625,
          0.44190225844689146,
          null,
          -0.6237276155106625,
          -0.10912083166792515,
          null,
          -0.6237276155106625,
          0.024938465747495808,
          null,
          -0.6237276155106625,
          -0.18887642991553194,
          null,
          -0.849137076473074,
          0.39531175427636944,
          null,
          -0.849137076473074,
          0.6315910355439683,
          null,
          -0.849137076473074,
          -0.37945183115579234,
          null,
          -0.849137076473074,
          -0.4516585788902151,
          null,
          -0.849137076473074,
          0.01809076140613107,
          null,
          -0.849137076473074,
          0.47168234382439145,
          null,
          -0.849137076473074,
          0.7824799278889628,
          null,
          -0.849137076473074,
          -0.3177884986717905,
          null,
          -0.849137076473074,
          0.15376431515078323,
          null,
          -0.849137076473074,
          0.44190225844689146,
          null,
          -0.849137076473074,
          -0.10912083166792515,
          null,
          -0.849137076473074,
          0.024938465747495808,
          null,
          -0.849137076473074,
          -0.18887642991553194,
          null,
          0.39531175427636944,
          0.6315910355439683,
          null,
          0.39531175427636944,
          -0.37945183115579234,
          null,
          0.39531175427636944,
          -0.4516585788902151,
          null,
          0.39531175427636944,
          0.01809076140613107,
          null,
          0.39531175427636944,
          0.47168234382439145,
          null,
          0.39531175427636944,
          0.7824799278889628,
          null,
          0.39531175427636944,
          -0.3177884986717905,
          null,
          0.39531175427636944,
          0.15376431515078323,
          null,
          0.39531175427636944,
          0.44190225844689146,
          null,
          0.39531175427636944,
          -0.10912083166792515,
          null,
          0.39531175427636944,
          0.024938465747495808,
          null,
          0.39531175427636944,
          -0.18887642991553194,
          null,
          0.6315910355439683,
          -0.37945183115579234,
          null,
          0.6315910355439683,
          -0.4516585788902151,
          null,
          0.6315910355439683,
          0.01809076140613107,
          null,
          0.6315910355439683,
          0.47168234382439145,
          null,
          0.6315910355439683,
          0.7824799278889628,
          null,
          0.6315910355439683,
          -0.3177884986717905,
          null,
          0.6315910355439683,
          0.15376431515078323,
          null,
          0.6315910355439683,
          0.44190225844689146,
          null,
          0.6315910355439683,
          -0.10912083166792515,
          null,
          0.6315910355439683,
          0.024938465747495808,
          null,
          0.6315910355439683,
          -0.18887642991553194,
          null,
          -0.37945183115579234,
          -0.4516585788902151,
          null,
          -0.37945183115579234,
          0.01809076140613107,
          null,
          -0.37945183115579234,
          0.47168234382439145,
          null,
          -0.37945183115579234,
          0.7824799278889628,
          null,
          -0.37945183115579234,
          -0.3177884986717905,
          null,
          -0.37945183115579234,
          0.15376431515078323,
          null,
          -0.37945183115579234,
          0.44190225844689146,
          null,
          -0.37945183115579234,
          -0.10912083166792515,
          null,
          -0.37945183115579234,
          0.024938465747495808,
          null,
          -0.37945183115579234,
          -0.18887642991553194,
          null,
          -0.4516585788902151,
          0.01809076140613107,
          null,
          -0.4516585788902151,
          0.47168234382439145,
          null,
          -0.4516585788902151,
          0.7824799278889628,
          null,
          -0.4516585788902151,
          -0.3177884986717905,
          null,
          -0.4516585788902151,
          0.15376431515078323,
          null,
          -0.4516585788902151,
          0.44190225844689146,
          null,
          -0.4516585788902151,
          -0.10912083166792515,
          null,
          -0.4516585788902151,
          0.024938465747495808,
          null,
          -0.4516585788902151,
          -0.18887642991553194,
          null,
          0.01809076140613107,
          0.47168234382439145,
          null,
          0.01809076140613107,
          0.7824799278889628,
          null,
          0.01809076140613107,
          -0.3177884986717905,
          null,
          0.01809076140613107,
          0.15376431515078323,
          null,
          0.01809076140613107,
          0.44190225844689146,
          null,
          0.01809076140613107,
          -0.10912083166792515,
          null,
          0.01809076140613107,
          0.024938465747495808,
          null,
          0.01809076140613107,
          -0.18887642991553194,
          null,
          0.47168234382439145,
          0.7824799278889628,
          null,
          0.47168234382439145,
          -0.3177884986717905,
          null,
          0.47168234382439145,
          0.15376431515078323,
          null,
          0.47168234382439145,
          0.44190225844689146,
          null,
          0.47168234382439145,
          -0.10912083166792515,
          null,
          0.47168234382439145,
          0.024938465747495808,
          null,
          0.47168234382439145,
          -0.18887642991553194,
          null,
          0.7824799278889628,
          -0.3177884986717905,
          null,
          0.7824799278889628,
          0.15376431515078323,
          null,
          0.7824799278889628,
          0.44190225844689146,
          null,
          0.7824799278889628,
          -0.10912083166792515,
          null,
          0.7824799278889628,
          0.024938465747495808,
          null,
          0.7824799278889628,
          -0.18887642991553194,
          null,
          -0.3177884986717905,
          0.15376431515078323,
          null,
          -0.3177884986717905,
          0.44190225844689146,
          null,
          -0.3177884986717905,
          -0.10912083166792515,
          null,
          -0.3177884986717905,
          0.024938465747495808,
          null,
          -0.3177884986717905,
          -0.18887642991553194,
          null,
          0.15376431515078323,
          0.44190225844689146,
          null,
          0.15376431515078323,
          -0.10912083166792515,
          null,
          0.15376431515078323,
          0.024938465747495808,
          null,
          0.15376431515078323,
          -0.18887642991553194,
          null,
          0.44190225844689146,
          -0.10912083166792515,
          null,
          0.44190225844689146,
          0.024938465747495808,
          null,
          0.44190225844689146,
          -0.18887642991553194,
          null,
          -0.10912083166792515,
          0.024938465747495808,
          null,
          -0.10912083166792515,
          -0.18887642991553194,
          null,
          0.024938465747495808,
          -0.18887642991553194,
          null
         ],
         "y": [
          -0.4148128919428564,
          -0.0037484380715549982,
          null,
          -0.4148128919428564,
          0.0223215386744876,
          null,
          -0.4148128919428564,
          -0.27090915643803104,
          null,
          -0.4148128919428564,
          -0.00559935468012924,
          null,
          -0.4148128919428564,
          0.3541208046837327,
          null,
          -0.4148128919428564,
          -0.043703532769257356,
          null,
          -0.4148128919428564,
          0.41142022321846805,
          null,
          -0.4148128919428564,
          0.09802793771692109,
          null,
          -0.4148128919428564,
          -0.5418637961853753,
          null,
          -0.4148128919428564,
          0.6619190945405565,
          null,
          -0.4148128919428564,
          -0.8591725370226376,
          null,
          -0.4148128919428564,
          0.2911390319127484,
          null,
          -0.4148128919428564,
          -0.6991389236370722,
          null,
          -0.4148128919428564,
          1,
          null,
          -0.0037484380715549982,
          0.0223215386744876,
          null,
          -0.0037484380715549982,
          -0.27090915643803104,
          null,
          -0.0037484380715549982,
          -0.00559935468012924,
          null,
          -0.0037484380715549982,
          0.3541208046837327,
          null,
          -0.0037484380715549982,
          -0.043703532769257356,
          null,
          -0.0037484380715549982,
          0.41142022321846805,
          null,
          -0.0037484380715549982,
          0.09802793771692109,
          null,
          -0.0037484380715549982,
          -0.5418637961853753,
          null,
          -0.0037484380715549982,
          0.6619190945405565,
          null,
          -0.0037484380715549982,
          -0.8591725370226376,
          null,
          -0.0037484380715549982,
          0.2911390319127484,
          null,
          -0.0037484380715549982,
          -0.6991389236370722,
          null,
          -0.0037484380715549982,
          1,
          null,
          0.0223215386744876,
          -0.27090915643803104,
          null,
          0.0223215386744876,
          -0.00559935468012924,
          null,
          0.0223215386744876,
          0.3541208046837327,
          null,
          0.0223215386744876,
          -0.043703532769257356,
          null,
          0.0223215386744876,
          0.41142022321846805,
          null,
          0.0223215386744876,
          0.09802793771692109,
          null,
          0.0223215386744876,
          -0.5418637961853753,
          null,
          0.0223215386744876,
          0.6619190945405565,
          null,
          0.0223215386744876,
          -0.8591725370226376,
          null,
          0.0223215386744876,
          0.2911390319127484,
          null,
          0.0223215386744876,
          -0.6991389236370722,
          null,
          0.0223215386744876,
          1,
          null,
          -0.27090915643803104,
          -0.00559935468012924,
          null,
          -0.27090915643803104,
          0.3541208046837327,
          null,
          -0.27090915643803104,
          -0.043703532769257356,
          null,
          -0.27090915643803104,
          0.41142022321846805,
          null,
          -0.27090915643803104,
          0.09802793771692109,
          null,
          -0.27090915643803104,
          -0.5418637961853753,
          null,
          -0.27090915643803104,
          0.6619190945405565,
          null,
          -0.27090915643803104,
          -0.8591725370226376,
          null,
          -0.27090915643803104,
          0.2911390319127484,
          null,
          -0.27090915643803104,
          -0.6991389236370722,
          null,
          -0.27090915643803104,
          1,
          null,
          -0.00559935468012924,
          0.3541208046837327,
          null,
          -0.00559935468012924,
          -0.043703532769257356,
          null,
          -0.00559935468012924,
          0.41142022321846805,
          null,
          -0.00559935468012924,
          0.09802793771692109,
          null,
          -0.00559935468012924,
          -0.5418637961853753,
          null,
          -0.00559935468012924,
          0.6619190945405565,
          null,
          -0.00559935468012924,
          -0.8591725370226376,
          null,
          -0.00559935468012924,
          0.2911390319127484,
          null,
          -0.00559935468012924,
          -0.6991389236370722,
          null,
          -0.00559935468012924,
          1,
          null,
          0.3541208046837327,
          -0.043703532769257356,
          null,
          0.3541208046837327,
          0.41142022321846805,
          null,
          0.3541208046837327,
          0.09802793771692109,
          null,
          0.3541208046837327,
          -0.5418637961853753,
          null,
          0.3541208046837327,
          0.6619190945405565,
          null,
          0.3541208046837327,
          -0.8591725370226376,
          null,
          0.3541208046837327,
          0.2911390319127484,
          null,
          0.3541208046837327,
          -0.6991389236370722,
          null,
          0.3541208046837327,
          1,
          null,
          -0.043703532769257356,
          0.41142022321846805,
          null,
          -0.043703532769257356,
          0.09802793771692109,
          null,
          -0.043703532769257356,
          -0.5418637961853753,
          null,
          -0.043703532769257356,
          0.6619190945405565,
          null,
          -0.043703532769257356,
          -0.8591725370226376,
          null,
          -0.043703532769257356,
          0.2911390319127484,
          null,
          -0.043703532769257356,
          -0.6991389236370722,
          null,
          -0.043703532769257356,
          1,
          null,
          0.41142022321846805,
          0.09802793771692109,
          null,
          0.41142022321846805,
          -0.5418637961853753,
          null,
          0.41142022321846805,
          0.6619190945405565,
          null,
          0.41142022321846805,
          -0.8591725370226376,
          null,
          0.41142022321846805,
          0.2911390319127484,
          null,
          0.41142022321846805,
          -0.6991389236370722,
          null,
          0.41142022321846805,
          1,
          null,
          0.09802793771692109,
          -0.5418637961853753,
          null,
          0.09802793771692109,
          0.6619190945405565,
          null,
          0.09802793771692109,
          -0.8591725370226376,
          null,
          0.09802793771692109,
          0.2911390319127484,
          null,
          0.09802793771692109,
          -0.6991389236370722,
          null,
          0.09802793771692109,
          1,
          null,
          -0.5418637961853753,
          0.6619190945405565,
          null,
          -0.5418637961853753,
          -0.8591725370226376,
          null,
          -0.5418637961853753,
          0.2911390319127484,
          null,
          -0.5418637961853753,
          -0.6991389236370722,
          null,
          -0.5418637961853753,
          1,
          null,
          0.6619190945405565,
          -0.8591725370226376,
          null,
          0.6619190945405565,
          0.2911390319127484,
          null,
          0.6619190945405565,
          -0.6991389236370722,
          null,
          0.6619190945405565,
          1,
          null,
          -0.8591725370226376,
          0.2911390319127484,
          null,
          -0.8591725370226376,
          -0.6991389236370722,
          null,
          -0.8591725370226376,
          1,
          null,
          0.2911390319127484,
          -0.6991389236370722,
          null,
          0.2911390319127484,
          1,
          null,
          -0.6991389236370722,
          1,
          null
         ]
        }
       ],
       "layout": {
        "showlegend": false,
        "template": {
         "data": {
          "bar": [
           {
            "error_x": {
             "color": "#2a3f5f"
            },
            "error_y": {
             "color": "#2a3f5f"
            },
            "marker": {
             "line": {
              "color": "#E5ECF6",
              "width": 0.5
             }
            },
            "type": "bar"
           }
          ],
          "barpolar": [
           {
            "marker": {
             "line": {
              "color": "#E5ECF6",
              "width": 0.5
             }
            },
            "type": "barpolar"
           }
          ],
          "carpet": [
           {
            "aaxis": {
             "endlinecolor": "#2a3f5f",
             "gridcolor": "white",
             "linecolor": "white",
             "minorgridcolor": "white",
             "startlinecolor": "#2a3f5f"
            },
            "baxis": {
             "endlinecolor": "#2a3f5f",
             "gridcolor": "white",
             "linecolor": "white",
             "minorgridcolor": "white",
             "startlinecolor": "#2a3f5f"
            },
            "type": "carpet"
           }
          ],
          "choropleth": [
           {
            "colorbar": {
             "outlinewidth": 0,
             "ticks": ""
            },
            "type": "choropleth"
           }
          ],
          "contour": [
           {
            "colorbar": {
             "outlinewidth": 0,
             "ticks": ""
            },
            "colorscale": [
             [
              0,
              "#0d0887"
             ],
             [
              0.1111111111111111,
              "#46039f"
             ],
             [
              0.2222222222222222,
              "#7201a8"
             ],
             [
              0.3333333333333333,
              "#9c179e"
             ],
             [
              0.4444444444444444,
              "#bd3786"
             ],
             [
              0.5555555555555556,
              "#d8576b"
             ],
             [
              0.6666666666666666,
              "#ed7953"
             ],
             [
              0.7777777777777778,
              "#fb9f3a"
             ],
             [
              0.8888888888888888,
              "#fdca26"
             ],
             [
              1,
              "#f0f921"
             ]
            ],
            "type": "contour"
           }
          ],
          "contourcarpet": [
           {
            "colorbar": {
             "outlinewidth": 0,
             "ticks": ""
            },
            "type": "contourcarpet"
           }
          ],
          "heatmap": [
           {
            "colorbar": {
             "outlinewidth": 0,
             "ticks": ""
            },
            "colorscale": [
             [
              0,
              "#0d0887"
             ],
             [
              0.1111111111111111,
              "#46039f"
             ],
             [
              0.2222222222222222,
              "#7201a8"
             ],
             [
              0.3333333333333333,
              "#9c179e"
             ],
             [
              0.4444444444444444,
              "#bd3786"
             ],
             [
              0.5555555555555556,
              "#d8576b"
             ],
             [
              0.6666666666666666,
              "#ed7953"
             ],
             [
              0.7777777777777778,
              "#fb9f3a"
             ],
             [
              0.8888888888888888,
              "#fdca26"
             ],
             [
              1,
              "#f0f921"
             ]
            ],
            "type": "heatmap"
           }
          ],
          "heatmapgl": [
           {
            "colorbar": {
             "outlinewidth": 0,
             "ticks": ""
            },
            "colorscale": [
             [
              0,
              "#0d0887"
             ],
             [
              0.1111111111111111,
              "#46039f"
             ],
             [
              0.2222222222222222,
              "#7201a8"
             ],
             [
              0.3333333333333333,
              "#9c179e"
             ],
             [
              0.4444444444444444,
              "#bd3786"
             ],
             [
              0.5555555555555556,
              "#d8576b"
             ],
             [
              0.6666666666666666,
              "#ed7953"
             ],
             [
              0.7777777777777778,
              "#fb9f3a"
             ],
             [
              0.8888888888888888,
              "#fdca26"
             ],
             [
              1,
              "#f0f921"
             ]
            ],
            "type": "heatmapgl"
           }
          ],
          "histogram": [
           {
            "marker": {
             "colorbar": {
              "outlinewidth": 0,
              "ticks": ""
             }
            },
            "type": "histogram"
           }
          ],
          "histogram2d": [
           {
            "colorbar": {
             "outlinewidth": 0,
             "ticks": ""
            },
            "colorscale": [
             [
              0,
              "#0d0887"
             ],
             [
              0.1111111111111111,
              "#46039f"
             ],
             [
              0.2222222222222222,
              "#7201a8"
             ],
             [
              0.3333333333333333,
              "#9c179e"
             ],
             [
              0.4444444444444444,
              "#bd3786"
             ],
             [
              0.5555555555555556,
              "#d8576b"
             ],
             [
              0.6666666666666666,
              "#ed7953"
             ],
             [
              0.7777777777777778,
              "#fb9f3a"
             ],
             [
              0.8888888888888888,
              "#fdca26"
             ],
             [
              1,
              "#f0f921"
             ]
            ],
            "type": "histogram2d"
           }
          ],
          "histogram2dcontour": [
           {
            "colorbar": {
             "outlinewidth": 0,
             "ticks": ""
            },
            "colorscale": [
             [
              0,
              "#0d0887"
             ],
             [
              0.1111111111111111,
              "#46039f"
             ],
             [
              0.2222222222222222,
              "#7201a8"
             ],
             [
              0.3333333333333333,
              "#9c179e"
             ],
             [
              0.4444444444444444,
              "#bd3786"
             ],
             [
              0.5555555555555556,
              "#d8576b"
             ],
             [
              0.6666666666666666,
              "#ed7953"
             ],
             [
              0.7777777777777778,
              "#fb9f3a"
             ],
             [
              0.8888888888888888,
              "#fdca26"
             ],
             [
              1,
              "#f0f921"
             ]
            ],
            "type": "histogram2dcontour"
           }
          ],
          "mesh3d": [
           {
            "colorbar": {
             "outlinewidth": 0,
             "ticks": ""
            },
            "type": "mesh3d"
           }
          ],
          "parcoords": [
           {
            "line": {
             "colorbar": {
              "outlinewidth": 0,
              "ticks": ""
             }
            },
            "type": "parcoords"
           }
          ],
          "pie": [
           {
            "automargin": true,
            "type": "pie"
           }
          ],
          "scatter": [
           {
            "marker": {
             "colorbar": {
              "outlinewidth": 0,
              "ticks": ""
             }
            },
            "type": "scatter"
           }
          ],
          "scatter3d": [
           {
            "line": {
             "colorbar": {
              "outlinewidth": 0,
              "ticks": ""
             }
            },
            "marker": {
             "colorbar": {
              "outlinewidth": 0,
              "ticks": ""
             }
            },
            "type": "scatter3d"
           }
          ],
          "scattercarpet": [
           {
            "marker": {
             "colorbar": {
              "outlinewidth": 0,
              "ticks": ""
             }
            },
            "type": "scattercarpet"
           }
          ],
          "scattergeo": [
           {
            "marker": {
             "colorbar": {
              "outlinewidth": 0,
              "ticks": ""
             }
            },
            "type": "scattergeo"
           }
          ],
          "scattergl": [
           {
            "marker": {
             "colorbar": {
              "outlinewidth": 0,
              "ticks": ""
             }
            },
            "type": "scattergl"
           }
          ],
          "scattermapbox": [
           {
            "marker": {
             "colorbar": {
              "outlinewidth": 0,
              "ticks": ""
             }
            },
            "type": "scattermapbox"
           }
          ],
          "scatterpolar": [
           {
            "marker": {
             "colorbar": {
              "outlinewidth": 0,
              "ticks": ""
             }
            },
            "type": "scatterpolar"
           }
          ],
          "scatterpolargl": [
           {
            "marker": {
             "colorbar": {
              "outlinewidth": 0,
              "ticks": ""
             }
            },
            "type": "scatterpolargl"
           }
          ],
          "scatterternary": [
           {
            "marker": {
             "colorbar": {
              "outlinewidth": 0,
              "ticks": ""
             }
            },
            "type": "scatterternary"
           }
          ],
          "surface": [
           {
            "colorbar": {
             "outlinewidth": 0,
             "ticks": ""
            },
            "colorscale": [
             [
              0,
              "#0d0887"
             ],
             [
              0.1111111111111111,
              "#46039f"
             ],
             [
              0.2222222222222222,
              "#7201a8"
             ],
             [
              0.3333333333333333,
              "#9c179e"
             ],
             [
              0.4444444444444444,
              "#bd3786"
             ],
             [
              0.5555555555555556,
              "#d8576b"
             ],
             [
              0.6666666666666666,
              "#ed7953"
             ],
             [
              0.7777777777777778,
              "#fb9f3a"
             ],
             [
              0.8888888888888888,
              "#fdca26"
             ],
             [
              1,
              "#f0f921"
             ]
            ],
            "type": "surface"
           }
          ],
          "table": [
           {
            "cells": {
             "fill": {
              "color": "#EBF0F8"
             },
             "line": {
              "color": "white"
             }
            },
            "header": {
             "fill": {
              "color": "#C8D4E3"
             },
             "line": {
              "color": "white"
             }
            },
            "type": "table"
           }
          ]
         },
         "layout": {
          "annotationdefaults": {
           "arrowcolor": "#2a3f5f",
           "arrowhead": 0,
           "arrowwidth": 1
          },
          "coloraxis": {
           "colorbar": {
            "outlinewidth": 0,
            "ticks": ""
           }
          },
          "colorscale": {
           "diverging": [
            [
             0,
             "#8e0152"
            ],
            [
             0.1,
             "#c51b7d"
            ],
            [
             0.2,
             "#de77ae"
            ],
            [
             0.3,
             "#f1b6da"
            ],
            [
             0.4,
             "#fde0ef"
            ],
            [
             0.5,
             "#f7f7f7"
            ],
            [
             0.6,
             "#e6f5d0"
            ],
            [
             0.7,
             "#b8e186"
            ],
            [
             0.8,
             "#7fbc41"
            ],
            [
             0.9,
             "#4d9221"
            ],
            [
             1,
             "#276419"
            ]
           ],
           "sequential": [
            [
             0,
             "#0d0887"
            ],
            [
             0.1111111111111111,
             "#46039f"
            ],
            [
             0.2222222222222222,
             "#7201a8"
            ],
            [
             0.3333333333333333,
             "#9c179e"
            ],
            [
             0.4444444444444444,
             "#bd3786"
            ],
            [
             0.5555555555555556,
             "#d8576b"
            ],
            [
             0.6666666666666666,
             "#ed7953"
            ],
            [
             0.7777777777777778,
             "#fb9f3a"
            ],
            [
             0.8888888888888888,
             "#fdca26"
            ],
            [
             1,
             "#f0f921"
            ]
           ],
           "sequentialminus": [
            [
             0,
             "#0d0887"
            ],
            [
             0.1111111111111111,
             "#46039f"
            ],
            [
             0.2222222222222222,
             "#7201a8"
            ],
            [
             0.3333333333333333,
             "#9c179e"
            ],
            [
             0.4444444444444444,
             "#bd3786"
            ],
            [
             0.5555555555555556,
             "#d8576b"
            ],
            [
             0.6666666666666666,
             "#ed7953"
            ],
            [
             0.7777777777777778,
             "#fb9f3a"
            ],
            [
             0.8888888888888888,
             "#fdca26"
            ],
            [
             1,
             "#f0f921"
            ]
           ]
          },
          "colorway": [
           "#636efa",
           "#EF553B",
           "#00cc96",
           "#ab63fa",
           "#FFA15A",
           "#19d3f3",
           "#FF6692",
           "#B6E880",
           "#FF97FF",
           "#FECB52"
          ],
          "font": {
           "color": "#2a3f5f"
          },
          "geo": {
           "bgcolor": "white",
           "lakecolor": "white",
           "landcolor": "#E5ECF6",
           "showlakes": true,
           "showland": true,
           "subunitcolor": "white"
          },
          "hoverlabel": {
           "align": "left"
          },
          "hovermode": "closest",
          "mapbox": {
           "style": "light"
          },
          "paper_bgcolor": "white",
          "plot_bgcolor": "#E5ECF6",
          "polar": {
           "angularaxis": {
            "gridcolor": "white",
            "linecolor": "white",
            "ticks": ""
           },
           "bgcolor": "#E5ECF6",
           "radialaxis": {
            "gridcolor": "white",
            "linecolor": "white",
            "ticks": ""
           }
          },
          "scene": {
           "xaxis": {
            "backgroundcolor": "#E5ECF6",
            "gridcolor": "white",
            "gridwidth": 2,
            "linecolor": "white",
            "showbackground": true,
            "ticks": "",
            "zerolinecolor": "white"
           },
           "yaxis": {
            "backgroundcolor": "#E5ECF6",
            "gridcolor": "white",
            "gridwidth": 2,
            "linecolor": "white",
            "showbackground": true,
            "ticks": "",
            "zerolinecolor": "white"
           },
           "zaxis": {
            "backgroundcolor": "#E5ECF6",
            "gridcolor": "white",
            "gridwidth": 2,
            "linecolor": "white",
            "showbackground": true,
            "ticks": "",
            "zerolinecolor": "white"
           }
          },
          "shapedefaults": {
           "line": {
            "color": "#2a3f5f"
           }
          },
          "ternary": {
           "aaxis": {
            "gridcolor": "white",
            "linecolor": "white",
            "ticks": ""
           },
           "baxis": {
            "gridcolor": "white",
            "linecolor": "white",
            "ticks": ""
           },
           "bgcolor": "#E5ECF6",
           "caxis": {
            "gridcolor": "white",
            "linecolor": "white",
            "ticks": ""
           }
          },
          "title": {
           "x": 0.05
          },
          "xaxis": {
           "automargin": true,
           "gridcolor": "white",
           "linecolor": "white",
           "ticks": "",
           "title": {
            "standoff": 15
           },
           "zerolinecolor": "white",
           "zerolinewidth": 2
          },
          "yaxis": {
           "automargin": true,
           "gridcolor": "white",
           "linecolor": "white",
           "ticks": "",
           "title": {
            "standoff": 15
           },
           "zerolinecolor": "white",
           "zerolinewidth": 2
          }
         }
        },
        "title": {
         "text": "Conexão das palavras"
        },
        "xaxis": {
         "showgrid": false,
         "showline": true,
         "showticklabels": false,
         "title": {
          "text": ""
         },
         "zeroline": false
        },
        "yaxis": {
         "showgrid": false,
         "showline": true,
         "showticklabels": false,
         "title": {
          "text": ""
         },
         "zeroline": false
        }
       }
      },
      "text/html": [
       "<div>\n",
       "        \n",
       "        \n",
       "            <div id=\"b5710b56-f3af-4159-a8c4-d5398324caad\" class=\"plotly-graph-div\" style=\"height:525px; width:100%;\"></div>\n",
       "            <script type=\"text/javascript\">\n",
       "                require([\"plotly\"], function(Plotly) {\n",
       "                    window.PLOTLYENV=window.PLOTLYENV || {};\n",
       "                    \n",
       "                if (document.getElementById(\"b5710b56-f3af-4159-a8c4-d5398324caad\")) {\n",
       "                    Plotly.newPlot(\n",
       "                        'b5710b56-f3af-4159-a8c4-d5398324caad',\n",
       "                        [{\"hoverinfo\": \"none\", \"marker\": {\"size\": [[84.95820976004313], [46.384470207603144], [100.93421407387436], [93.1059584793745], [122.44135885683474], [101.28201671609598], [132.31464006470745], [91.15529792396873], [93.56295497438663], [66.99245079536264], [63.213804259908336], [30.647074683203016], [82.55864114316527], [40.28713939067134], [41.24561876516581]]}, \"mode\": \"markers+text\", \"text\": [\"agora\", \"anos\", \"bolsonaro\", \"brasil\", \"china\", \"cloroquina\", \"contra\", \"mil\", \"mortes\", \"pandemia\", \"pessoas\", \"pode\", \"vacina\", \"vai\", \"vida\"], \"textposition\": \"middle center\", \"type\": \"scatter\", \"x\": [-0.6237276155106625, -0.849137076473074, 0.39531175427636944, 0.6315910355439683, -0.37945183115579234, -0.4516585788902151, 0.01809076140613107, 0.47168234382439145, 0.7824799278889628, -0.3177884986717905, 0.15376431515078323, 0.44190225844689146, -0.10912083166792515, 0.024938465747495808, -0.18887642991553194], \"y\": [-0.4148128919428564, -0.0037484380715549982, 0.0223215386744876, -0.27090915643803104, -0.00559935468012924, 0.3541208046837327, -0.043703532769257356, 0.41142022321846805, 0.09802793771692109, -0.5418637961853753, 0.6619190945405565, -0.8591725370226376, 0.2911390319127484, -0.6991389236370722, 1.0]}, {\"hoverinfo\": \"none\", \"line\": {\"color\": \"rgba(151, 151, 151, 0.2)\"}, \"mode\": \"lines\", \"type\": \"scatter\", \"x\": [-0.6237276155106625, -0.849137076473074, null, -0.6237276155106625, 0.39531175427636944, null, -0.6237276155106625, 0.6315910355439683, null, -0.6237276155106625, -0.37945183115579234, null, -0.6237276155106625, -0.4516585788902151, null, -0.6237276155106625, 0.01809076140613107, null, -0.6237276155106625, 0.47168234382439145, null, -0.6237276155106625, 0.7824799278889628, null, -0.6237276155106625, -0.3177884986717905, null, -0.6237276155106625, 0.15376431515078323, null, -0.6237276155106625, 0.44190225844689146, null, -0.6237276155106625, -0.10912083166792515, null, -0.6237276155106625, 0.024938465747495808, null, -0.6237276155106625, -0.18887642991553194, null, -0.849137076473074, 0.39531175427636944, null, -0.849137076473074, 0.6315910355439683, null, -0.849137076473074, -0.37945183115579234, null, -0.849137076473074, -0.4516585788902151, null, -0.849137076473074, 0.01809076140613107, null, -0.849137076473074, 0.47168234382439145, null, -0.849137076473074, 0.7824799278889628, null, -0.849137076473074, -0.3177884986717905, null, -0.849137076473074, 0.15376431515078323, null, -0.849137076473074, 0.44190225844689146, null, -0.849137076473074, -0.10912083166792515, null, -0.849137076473074, 0.024938465747495808, null, -0.849137076473074, -0.18887642991553194, null, 0.39531175427636944, 0.6315910355439683, null, 0.39531175427636944, -0.37945183115579234, null, 0.39531175427636944, -0.4516585788902151, null, 0.39531175427636944, 0.01809076140613107, null, 0.39531175427636944, 0.47168234382439145, null, 0.39531175427636944, 0.7824799278889628, null, 0.39531175427636944, -0.3177884986717905, null, 0.39531175427636944, 0.15376431515078323, null, 0.39531175427636944, 0.44190225844689146, null, 0.39531175427636944, -0.10912083166792515, null, 0.39531175427636944, 0.024938465747495808, null, 0.39531175427636944, -0.18887642991553194, null, 0.6315910355439683, -0.37945183115579234, null, 0.6315910355439683, -0.4516585788902151, null, 0.6315910355439683, 0.01809076140613107, null, 0.6315910355439683, 0.47168234382439145, null, 0.6315910355439683, 0.7824799278889628, null, 0.6315910355439683, -0.3177884986717905, null, 0.6315910355439683, 0.15376431515078323, null, 0.6315910355439683, 0.44190225844689146, null, 0.6315910355439683, -0.10912083166792515, null, 0.6315910355439683, 0.024938465747495808, null, 0.6315910355439683, -0.18887642991553194, null, -0.37945183115579234, -0.4516585788902151, null, -0.37945183115579234, 0.01809076140613107, null, -0.37945183115579234, 0.47168234382439145, null, -0.37945183115579234, 0.7824799278889628, null, -0.37945183115579234, -0.3177884986717905, null, -0.37945183115579234, 0.15376431515078323, null, -0.37945183115579234, 0.44190225844689146, null, -0.37945183115579234, -0.10912083166792515, null, -0.37945183115579234, 0.024938465747495808, null, -0.37945183115579234, -0.18887642991553194, null, -0.4516585788902151, 0.01809076140613107, null, -0.4516585788902151, 0.47168234382439145, null, -0.4516585788902151, 0.7824799278889628, null, -0.4516585788902151, -0.3177884986717905, null, -0.4516585788902151, 0.15376431515078323, null, -0.4516585788902151, 0.44190225844689146, null, -0.4516585788902151, -0.10912083166792515, null, -0.4516585788902151, 0.024938465747495808, null, -0.4516585788902151, -0.18887642991553194, null, 0.01809076140613107, 0.47168234382439145, null, 0.01809076140613107, 0.7824799278889628, null, 0.01809076140613107, -0.3177884986717905, null, 0.01809076140613107, 0.15376431515078323, null, 0.01809076140613107, 0.44190225844689146, null, 0.01809076140613107, -0.10912083166792515, null, 0.01809076140613107, 0.024938465747495808, null, 0.01809076140613107, -0.18887642991553194, null, 0.47168234382439145, 0.7824799278889628, null, 0.47168234382439145, -0.3177884986717905, null, 0.47168234382439145, 0.15376431515078323, null, 0.47168234382439145, 0.44190225844689146, null, 0.47168234382439145, -0.10912083166792515, null, 0.47168234382439145, 0.024938465747495808, null, 0.47168234382439145, -0.18887642991553194, null, 0.7824799278889628, -0.3177884986717905, null, 0.7824799278889628, 0.15376431515078323, null, 0.7824799278889628, 0.44190225844689146, null, 0.7824799278889628, -0.10912083166792515, null, 0.7824799278889628, 0.024938465747495808, null, 0.7824799278889628, -0.18887642991553194, null, -0.3177884986717905, 0.15376431515078323, null, -0.3177884986717905, 0.44190225844689146, null, -0.3177884986717905, -0.10912083166792515, null, -0.3177884986717905, 0.024938465747495808, null, -0.3177884986717905, -0.18887642991553194, null, 0.15376431515078323, 0.44190225844689146, null, 0.15376431515078323, -0.10912083166792515, null, 0.15376431515078323, 0.024938465747495808, null, 0.15376431515078323, -0.18887642991553194, null, 0.44190225844689146, -0.10912083166792515, null, 0.44190225844689146, 0.024938465747495808, null, 0.44190225844689146, -0.18887642991553194, null, -0.10912083166792515, 0.024938465747495808, null, -0.10912083166792515, -0.18887642991553194, null, 0.024938465747495808, -0.18887642991553194, null], \"y\": [-0.4148128919428564, -0.0037484380715549982, null, -0.4148128919428564, 0.0223215386744876, null, -0.4148128919428564, -0.27090915643803104, null, -0.4148128919428564, -0.00559935468012924, null, -0.4148128919428564, 0.3541208046837327, null, -0.4148128919428564, -0.043703532769257356, null, -0.4148128919428564, 0.41142022321846805, null, -0.4148128919428564, 0.09802793771692109, null, -0.4148128919428564, -0.5418637961853753, null, -0.4148128919428564, 0.6619190945405565, null, -0.4148128919428564, -0.8591725370226376, null, -0.4148128919428564, 0.2911390319127484, null, -0.4148128919428564, -0.6991389236370722, null, -0.4148128919428564, 1.0, null, -0.0037484380715549982, 0.0223215386744876, null, -0.0037484380715549982, -0.27090915643803104, null, -0.0037484380715549982, -0.00559935468012924, null, -0.0037484380715549982, 0.3541208046837327, null, -0.0037484380715549982, -0.043703532769257356, null, -0.0037484380715549982, 0.41142022321846805, null, -0.0037484380715549982, 0.09802793771692109, null, -0.0037484380715549982, -0.5418637961853753, null, -0.0037484380715549982, 0.6619190945405565, null, -0.0037484380715549982, -0.8591725370226376, null, -0.0037484380715549982, 0.2911390319127484, null, -0.0037484380715549982, -0.6991389236370722, null, -0.0037484380715549982, 1.0, null, 0.0223215386744876, -0.27090915643803104, null, 0.0223215386744876, -0.00559935468012924, null, 0.0223215386744876, 0.3541208046837327, null, 0.0223215386744876, -0.043703532769257356, null, 0.0223215386744876, 0.41142022321846805, null, 0.0223215386744876, 0.09802793771692109, null, 0.0223215386744876, -0.5418637961853753, null, 0.0223215386744876, 0.6619190945405565, null, 0.0223215386744876, -0.8591725370226376, null, 0.0223215386744876, 0.2911390319127484, null, 0.0223215386744876, -0.6991389236370722, null, 0.0223215386744876, 1.0, null, -0.27090915643803104, -0.00559935468012924, null, -0.27090915643803104, 0.3541208046837327, null, -0.27090915643803104, -0.043703532769257356, null, -0.27090915643803104, 0.41142022321846805, null, -0.27090915643803104, 0.09802793771692109, null, -0.27090915643803104, -0.5418637961853753, null, -0.27090915643803104, 0.6619190945405565, null, -0.27090915643803104, -0.8591725370226376, null, -0.27090915643803104, 0.2911390319127484, null, -0.27090915643803104, -0.6991389236370722, null, -0.27090915643803104, 1.0, null, -0.00559935468012924, 0.3541208046837327, null, -0.00559935468012924, -0.043703532769257356, null, -0.00559935468012924, 0.41142022321846805, null, -0.00559935468012924, 0.09802793771692109, null, -0.00559935468012924, -0.5418637961853753, null, -0.00559935468012924, 0.6619190945405565, null, -0.00559935468012924, -0.8591725370226376, null, -0.00559935468012924, 0.2911390319127484, null, -0.00559935468012924, -0.6991389236370722, null, -0.00559935468012924, 1.0, null, 0.3541208046837327, -0.043703532769257356, null, 0.3541208046837327, 0.41142022321846805, null, 0.3541208046837327, 0.09802793771692109, null, 0.3541208046837327, -0.5418637961853753, null, 0.3541208046837327, 0.6619190945405565, null, 0.3541208046837327, -0.8591725370226376, null, 0.3541208046837327, 0.2911390319127484, null, 0.3541208046837327, -0.6991389236370722, null, 0.3541208046837327, 1.0, null, -0.043703532769257356, 0.41142022321846805, null, -0.043703532769257356, 0.09802793771692109, null, -0.043703532769257356, -0.5418637961853753, null, -0.043703532769257356, 0.6619190945405565, null, -0.043703532769257356, -0.8591725370226376, null, -0.043703532769257356, 0.2911390319127484, null, -0.043703532769257356, -0.6991389236370722, null, -0.043703532769257356, 1.0, null, 0.41142022321846805, 0.09802793771692109, null, 0.41142022321846805, -0.5418637961853753, null, 0.41142022321846805, 0.6619190945405565, null, 0.41142022321846805, -0.8591725370226376, null, 0.41142022321846805, 0.2911390319127484, null, 0.41142022321846805, -0.6991389236370722, null, 0.41142022321846805, 1.0, null, 0.09802793771692109, -0.5418637961853753, null, 0.09802793771692109, 0.6619190945405565, null, 0.09802793771692109, -0.8591725370226376, null, 0.09802793771692109, 0.2911390319127484, null, 0.09802793771692109, -0.6991389236370722, null, 0.09802793771692109, 1.0, null, -0.5418637961853753, 0.6619190945405565, null, -0.5418637961853753, -0.8591725370226376, null, -0.5418637961853753, 0.2911390319127484, null, -0.5418637961853753, -0.6991389236370722, null, -0.5418637961853753, 1.0, null, 0.6619190945405565, -0.8591725370226376, null, 0.6619190945405565, 0.2911390319127484, null, 0.6619190945405565, -0.6991389236370722, null, 0.6619190945405565, 1.0, null, -0.8591725370226376, 0.2911390319127484, null, -0.8591725370226376, -0.6991389236370722, null, -0.8591725370226376, 1.0, null, 0.2911390319127484, -0.6991389236370722, null, 0.2911390319127484, 1.0, null, -0.6991389236370722, 1.0, null]}],\n",
       "                        {\"showlegend\": false, \"template\": {\"data\": {\"bar\": [{\"error_x\": {\"color\": \"#2a3f5f\"}, \"error_y\": {\"color\": \"#2a3f5f\"}, \"marker\": {\"line\": {\"color\": \"#E5ECF6\", \"width\": 0.5}}, \"type\": \"bar\"}], \"barpolar\": [{\"marker\": {\"line\": {\"color\": \"#E5ECF6\", \"width\": 0.5}}, \"type\": \"barpolar\"}], \"carpet\": [{\"aaxis\": {\"endlinecolor\": \"#2a3f5f\", \"gridcolor\": \"white\", \"linecolor\": \"white\", \"minorgridcolor\": \"white\", \"startlinecolor\": \"#2a3f5f\"}, \"baxis\": {\"endlinecolor\": \"#2a3f5f\", \"gridcolor\": \"white\", \"linecolor\": \"white\", \"minorgridcolor\": \"white\", \"startlinecolor\": \"#2a3f5f\"}, \"type\": \"carpet\"}], \"choropleth\": [{\"colorbar\": {\"outlinewidth\": 0, \"ticks\": \"\"}, \"type\": \"choropleth\"}], \"contour\": [{\"colorbar\": {\"outlinewidth\": 0, \"ticks\": \"\"}, \"colorscale\": [[0.0, \"#0d0887\"], [0.1111111111111111, \"#46039f\"], [0.2222222222222222, \"#7201a8\"], [0.3333333333333333, \"#9c179e\"], [0.4444444444444444, \"#bd3786\"], [0.5555555555555556, \"#d8576b\"], [0.6666666666666666, \"#ed7953\"], [0.7777777777777778, \"#fb9f3a\"], [0.8888888888888888, \"#fdca26\"], [1.0, \"#f0f921\"]], \"type\": \"contour\"}], \"contourcarpet\": [{\"colorbar\": {\"outlinewidth\": 0, \"ticks\": \"\"}, \"type\": \"contourcarpet\"}], \"heatmap\": [{\"colorbar\": {\"outlinewidth\": 0, \"ticks\": \"\"}, \"colorscale\": [[0.0, \"#0d0887\"], [0.1111111111111111, \"#46039f\"], [0.2222222222222222, \"#7201a8\"], [0.3333333333333333, \"#9c179e\"], [0.4444444444444444, \"#bd3786\"], [0.5555555555555556, \"#d8576b\"], [0.6666666666666666, \"#ed7953\"], [0.7777777777777778, \"#fb9f3a\"], [0.8888888888888888, \"#fdca26\"], [1.0, \"#f0f921\"]], \"type\": \"heatmap\"}], \"heatmapgl\": [{\"colorbar\": {\"outlinewidth\": 0, \"ticks\": \"\"}, \"colorscale\": [[0.0, \"#0d0887\"], [0.1111111111111111, \"#46039f\"], [0.2222222222222222, \"#7201a8\"], [0.3333333333333333, \"#9c179e\"], [0.4444444444444444, \"#bd3786\"], [0.5555555555555556, \"#d8576b\"], [0.6666666666666666, \"#ed7953\"], [0.7777777777777778, \"#fb9f3a\"], [0.8888888888888888, \"#fdca26\"], [1.0, \"#f0f921\"]], \"type\": \"heatmapgl\"}], \"histogram\": [{\"marker\": {\"colorbar\": {\"outlinewidth\": 0, \"ticks\": \"\"}}, \"type\": \"histogram\"}], \"histogram2d\": [{\"colorbar\": {\"outlinewidth\": 0, \"ticks\": \"\"}, \"colorscale\": [[0.0, \"#0d0887\"], [0.1111111111111111, \"#46039f\"], [0.2222222222222222, \"#7201a8\"], [0.3333333333333333, \"#9c179e\"], [0.4444444444444444, \"#bd3786\"], [0.5555555555555556, \"#d8576b\"], [0.6666666666666666, \"#ed7953\"], [0.7777777777777778, \"#fb9f3a\"], [0.8888888888888888, \"#fdca26\"], [1.0, \"#f0f921\"]], \"type\": \"histogram2d\"}], \"histogram2dcontour\": [{\"colorbar\": {\"outlinewidth\": 0, \"ticks\": \"\"}, \"colorscale\": [[0.0, \"#0d0887\"], [0.1111111111111111, \"#46039f\"], [0.2222222222222222, \"#7201a8\"], [0.3333333333333333, \"#9c179e\"], [0.4444444444444444, \"#bd3786\"], [0.5555555555555556, \"#d8576b\"], [0.6666666666666666, \"#ed7953\"], [0.7777777777777778, \"#fb9f3a\"], [0.8888888888888888, \"#fdca26\"], [1.0, \"#f0f921\"]], \"type\": \"histogram2dcontour\"}], \"mesh3d\": [{\"colorbar\": {\"outlinewidth\": 0, \"ticks\": \"\"}, \"type\": \"mesh3d\"}], \"parcoords\": [{\"line\": {\"colorbar\": {\"outlinewidth\": 0, \"ticks\": \"\"}}, \"type\": \"parcoords\"}], \"pie\": [{\"automargin\": true, \"type\": \"pie\"}], \"scatter\": [{\"marker\": {\"colorbar\": {\"outlinewidth\": 0, \"ticks\": \"\"}}, \"type\": \"scatter\"}], \"scatter3d\": [{\"line\": {\"colorbar\": {\"outlinewidth\": 0, \"ticks\": \"\"}}, \"marker\": {\"colorbar\": {\"outlinewidth\": 0, \"ticks\": \"\"}}, \"type\": \"scatter3d\"}], \"scattercarpet\": [{\"marker\": {\"colorbar\": {\"outlinewidth\": 0, \"ticks\": \"\"}}, \"type\": \"scattercarpet\"}], \"scattergeo\": [{\"marker\": {\"colorbar\": {\"outlinewidth\": 0, \"ticks\": \"\"}}, \"type\": \"scattergeo\"}], \"scattergl\": [{\"marker\": {\"colorbar\": {\"outlinewidth\": 0, \"ticks\": \"\"}}, \"type\": \"scattergl\"}], \"scattermapbox\": [{\"marker\": {\"colorbar\": {\"outlinewidth\": 0, \"ticks\": \"\"}}, \"type\": \"scattermapbox\"}], \"scatterpolar\": [{\"marker\": {\"colorbar\": {\"outlinewidth\": 0, \"ticks\": \"\"}}, \"type\": \"scatterpolar\"}], \"scatterpolargl\": [{\"marker\": {\"colorbar\": {\"outlinewidth\": 0, \"ticks\": \"\"}}, \"type\": \"scatterpolargl\"}], \"scatterternary\": [{\"marker\": {\"colorbar\": {\"outlinewidth\": 0, \"ticks\": \"\"}}, \"type\": \"scatterternary\"}], \"surface\": [{\"colorbar\": {\"outlinewidth\": 0, \"ticks\": \"\"}, \"colorscale\": [[0.0, \"#0d0887\"], [0.1111111111111111, \"#46039f\"], [0.2222222222222222, \"#7201a8\"], [0.3333333333333333, \"#9c179e\"], [0.4444444444444444, \"#bd3786\"], [0.5555555555555556, \"#d8576b\"], [0.6666666666666666, \"#ed7953\"], [0.7777777777777778, \"#fb9f3a\"], [0.8888888888888888, \"#fdca26\"], [1.0, \"#f0f921\"]], \"type\": \"surface\"}], \"table\": [{\"cells\": {\"fill\": {\"color\": \"#EBF0F8\"}, \"line\": {\"color\": \"white\"}}, \"header\": {\"fill\": {\"color\": \"#C8D4E3\"}, \"line\": {\"color\": \"white\"}}, \"type\": \"table\"}]}, \"layout\": {\"annotationdefaults\": {\"arrowcolor\": \"#2a3f5f\", \"arrowhead\": 0, \"arrowwidth\": 1}, \"coloraxis\": {\"colorbar\": {\"outlinewidth\": 0, \"ticks\": \"\"}}, \"colorscale\": {\"diverging\": [[0, \"#8e0152\"], [0.1, \"#c51b7d\"], [0.2, \"#de77ae\"], [0.3, \"#f1b6da\"], [0.4, \"#fde0ef\"], [0.5, \"#f7f7f7\"], [0.6, \"#e6f5d0\"], [0.7, \"#b8e186\"], [0.8, \"#7fbc41\"], [0.9, \"#4d9221\"], [1, \"#276419\"]], \"sequential\": [[0.0, \"#0d0887\"], [0.1111111111111111, \"#46039f\"], [0.2222222222222222, \"#7201a8\"], [0.3333333333333333, \"#9c179e\"], [0.4444444444444444, \"#bd3786\"], [0.5555555555555556, \"#d8576b\"], [0.6666666666666666, \"#ed7953\"], [0.7777777777777778, \"#fb9f3a\"], [0.8888888888888888, \"#fdca26\"], [1.0, \"#f0f921\"]], \"sequentialminus\": [[0.0, \"#0d0887\"], [0.1111111111111111, \"#46039f\"], [0.2222222222222222, \"#7201a8\"], [0.3333333333333333, \"#9c179e\"], [0.4444444444444444, \"#bd3786\"], [0.5555555555555556, \"#d8576b\"], [0.6666666666666666, \"#ed7953\"], [0.7777777777777778, \"#fb9f3a\"], [0.8888888888888888, \"#fdca26\"], [1.0, \"#f0f921\"]]}, \"colorway\": [\"#636efa\", \"#EF553B\", \"#00cc96\", \"#ab63fa\", \"#FFA15A\", \"#19d3f3\", \"#FF6692\", \"#B6E880\", \"#FF97FF\", \"#FECB52\"], \"font\": {\"color\": \"#2a3f5f\"}, \"geo\": {\"bgcolor\": \"white\", \"lakecolor\": \"white\", \"landcolor\": \"#E5ECF6\", \"showlakes\": true, \"showland\": true, \"subunitcolor\": \"white\"}, \"hoverlabel\": {\"align\": \"left\"}, \"hovermode\": \"closest\", \"mapbox\": {\"style\": \"light\"}, \"paper_bgcolor\": \"white\", \"plot_bgcolor\": \"#E5ECF6\", \"polar\": {\"angularaxis\": {\"gridcolor\": \"white\", \"linecolor\": \"white\", \"ticks\": \"\"}, \"bgcolor\": \"#E5ECF6\", \"radialaxis\": {\"gridcolor\": \"white\", \"linecolor\": \"white\", \"ticks\": \"\"}}, \"scene\": {\"xaxis\": {\"backgroundcolor\": \"#E5ECF6\", \"gridcolor\": \"white\", \"gridwidth\": 2, \"linecolor\": \"white\", \"showbackground\": true, \"ticks\": \"\", \"zerolinecolor\": \"white\"}, \"yaxis\": {\"backgroundcolor\": \"#E5ECF6\", \"gridcolor\": \"white\", \"gridwidth\": 2, \"linecolor\": \"white\", \"showbackground\": true, \"ticks\": \"\", \"zerolinecolor\": \"white\"}, \"zaxis\": {\"backgroundcolor\": \"#E5ECF6\", \"gridcolor\": \"white\", \"gridwidth\": 2, \"linecolor\": \"white\", \"showbackground\": true, \"ticks\": \"\", \"zerolinecolor\": \"white\"}}, \"shapedefaults\": {\"line\": {\"color\": \"#2a3f5f\"}}, \"ternary\": {\"aaxis\": {\"gridcolor\": \"white\", \"linecolor\": \"white\", \"ticks\": \"\"}, \"baxis\": {\"gridcolor\": \"white\", \"linecolor\": \"white\", \"ticks\": \"\"}, \"bgcolor\": \"#E5ECF6\", \"caxis\": {\"gridcolor\": \"white\", \"linecolor\": \"white\", \"ticks\": \"\"}}, \"title\": {\"x\": 0.05}, \"xaxis\": {\"automargin\": true, \"gridcolor\": \"white\", \"linecolor\": \"white\", \"ticks\": \"\", \"title\": {\"standoff\": 15}, \"zerolinecolor\": \"white\", \"zerolinewidth\": 2}, \"yaxis\": {\"automargin\": true, \"gridcolor\": \"white\", \"linecolor\": \"white\", \"ticks\": \"\", \"title\": {\"standoff\": 15}, \"zerolinecolor\": \"white\", \"zerolinewidth\": 2}}}, \"title\": {\"text\": \"Conex\\u00e3o das palavras\"}, \"xaxis\": {\"showgrid\": false, \"showline\": true, \"showticklabels\": false, \"title\": {\"text\": \"\"}, \"zeroline\": false}, \"yaxis\": {\"showgrid\": false, \"showline\": true, \"showticklabels\": false, \"title\": {\"text\": \"\"}, \"zeroline\": false}},\n",
       "                        {\"responsive\": true}\n",
       "                    ).then(function(){\n",
       "                            \n",
       "var gd = document.getElementById('b5710b56-f3af-4159-a8c4-d5398324caad');\n",
       "var x = new MutationObserver(function (mutations, observer) {{\n",
       "        var display = window.getComputedStyle(gd).display;\n",
       "        if (!display || display === 'none') {{\n",
       "            console.log([gd, 'removed!']);\n",
       "            Plotly.purge(gd);\n",
       "            observer.disconnect();\n",
       "        }}\n",
       "}});\n",
       "\n",
       "// Listen for the removal of the full notebook cells\n",
       "var notebookContainer = gd.closest('#notebook-container');\n",
       "if (notebookContainer) {{\n",
       "    x.observe(notebookContainer, {childList: true});\n",
       "}}\n",
       "\n",
       "// Listen for the clearing of the current output cell\n",
       "var outputEl = gd.closest('.output');\n",
       "if (outputEl) {{\n",
       "    x.observe(outputEl, {childList: true});\n",
       "}}\n",
       "\n",
       "                        })\n",
       "                };\n",
       "                });\n",
       "            </script>\n",
       "        </div>"
      ]
     },
     "metadata": {},
     "output_type": "display_data"
    }
   ],
   "source": [
    "plot_graph(text, n_nodes=15, title='Conexão das palavras')"
   ]
  },
  {
   "cell_type": "markdown",
   "metadata": {},
   "source": [
    "## bigrams"
   ]
  },
  {
   "cell_type": "code",
   "execution_count": 49,
   "metadata": {},
   "outputs": [],
   "source": [
    "bigrams = bigrams(df['text'])"
   ]
  }
 ],
 "metadata": {
  "kernelspec": {
   "display_name": "Python 3",
   "language": "python",
   "name": "python3"
  },
  "language_info": {
   "codemirror_mode": {
    "name": "ipython",
    "version": 3
   },
   "file_extension": ".py",
   "mimetype": "text/x-python",
   "name": "python",
   "nbconvert_exporter": "python",
   "pygments_lexer": "ipython3",
   "version": "3.6.8"
  }
 },
 "nbformat": 4,
 "nbformat_minor": 4
}
